{
 "cells": [
  {
   "cell_type": "markdown",
   "metadata": {},
   "source": [
    "### install related packages"
   ]
  },
  {
   "cell_type": "code",
   "execution_count": 1,
   "metadata": {
    "scrolled": true
   },
   "outputs": [
    {
     "name": "stdout",
     "output_type": "stream",
     "text": [
      "Solving environment: done\n",
      "\n",
      "## Package Plan ##\n",
      "\n",
      "  environment location: /home/ec2-user/anaconda3\n",
      "\n",
      "  added / updated specs: \n",
      "    - conda\n",
      "\n",
      "\n",
      "The following packages will be downloaded:\n",
      "\n",
      "    package                    |            build\n",
      "    ---------------------------|-----------------\n",
      "    ca-certificates-2019.5.15  |                1         134 KB\n",
      "    conda-package-handling-1.3.11|           py36_0         260 KB\n",
      "    python-libarchive-c-2.8    |          py36_13          23 KB\n",
      "    zstd-1.3.3                 |       h84994c4_0         840 KB\n",
      "    lz4-c-1.8.1.2              |       h14c3975_0         158 KB\n",
      "    certifi-2019.6.16          |           py36_1         156 KB\n",
      "    libarchive-3.3.3           |       h7d0bbab_1         1.5 MB\n",
      "    conda-4.7.11               |           py36_0         3.0 MB\n",
      "    ------------------------------------------------------------\n",
      "                                           Total:         6.0 MB\n",
      "\n",
      "The following NEW packages will be INSTALLED:\n",
      "\n",
      "    conda-package-handling: 1.3.11-py36_0     \n",
      "    libarchive:             3.3.3-h7d0bbab_1  \n",
      "    lz4-c:                  1.8.1.2-h14c3975_0\n",
      "    python-libarchive-c:    2.8-py36_13       \n",
      "    tqdm:                   4.32.1-py_0       \n",
      "    zstd:                   1.3.3-h84994c4_0  \n",
      "\n",
      "The following packages will be UPDATED:\n",
      "\n",
      "    ca-certificates:        2019.5.15-0        --> 2019.5.15-1     \n",
      "    certifi:                2019.6.16-py36_0   --> 2019.6.16-py36_1\n",
      "    conda:                  4.5.12-py36_0      --> 4.7.11-py36_0   \n",
      "\n",
      "\n",
      "Downloading and Extracting Packages\n",
      "ca-certificates-2019 | 134 KB    | ##################################### | 100% \n",
      "conda-package-handli | 260 KB    | ##################################### | 100% \n",
      "python-libarchive-c- | 23 KB     | ##################################### | 100% \n",
      "zstd-1.3.3           | 840 KB    | ##################################### | 100% \n",
      "lz4-c-1.8.1.2        | 158 KB    | ##################################### | 100% \n",
      "certifi-2019.6.16    | 156 KB    | ##################################### | 100% \n",
      "libarchive-3.3.3     | 1.5 MB    | ##################################### | 100% \n",
      "conda-4.7.11         | 3.0 MB    | ##################################### | 100% \n",
      "Preparing transaction: done\n",
      "Verifying transaction: done\n",
      "Executing transaction: done\n",
      "Collecting package metadata (repodata.json): done\n",
      "Solving environment: done\n",
      "\n",
      "## Package Plan ##\n",
      "\n",
      "  environment location: /home/ec2-user/anaconda3/envs/python3\n",
      "\n",
      "  added / updated specs:\n",
      "    - fastparquet\n",
      "\n",
      "\n",
      "The following packages will be downloaded:\n",
      "\n",
      "    package                    |            build\n",
      "    ---------------------------|-----------------\n",
      "    ca-certificates-2019.5.15  |                1         134 KB  anaconda\n",
      "    certifi-2019.6.16          |           py36_1         156 KB  anaconda\n",
      "    ------------------------------------------------------------\n",
      "                                           Total:         289 KB\n",
      "\n",
      "The following packages will be UPDATED:\n",
      "\n",
      "  openssl            conda-forge::openssl-1.0.2r-h14c3975_0 --> anaconda::openssl-1.0.2s-h7b6447c_0\n",
      "\n",
      "The following packages will be SUPERSEDED by a higher-priority channel:\n",
      "\n",
      "  ca-certificates    conda-forge::ca-certificates-2019.6.1~ --> anaconda::ca-certificates-2019.5.15-1\n",
      "  certifi                                       conda-forge --> anaconda\n",
      "\n",
      "\n",
      "\n",
      "Downloading and Extracting Packages\n",
      "ca-certificates-2019 | 134 KB    | ##################################### | 100% \n",
      "certifi-2019.6.16    | 156 KB    | ##################################### | 100% \n",
      "Preparing transaction: done\n",
      "Verifying transaction: done\n",
      "Executing transaction: done\n",
      "Collecting package metadata (repodata.json): done\n",
      "Solving environment: done\n",
      "\n",
      "## Package Plan ##\n",
      "\n",
      "  environment location: /home/ec2-user/anaconda3/envs/python3\n",
      "\n",
      "  added / updated specs:\n",
      "    - python-snappy\n",
      "\n",
      "\n",
      "The following packages will be downloaded:\n",
      "\n",
      "    package                    |            build\n",
      "    ---------------------------|-----------------\n",
      "    certifi-2019.6.16          |           py36_1         149 KB  conda-forge\n",
      "    ------------------------------------------------------------\n",
      "                                           Total:         149 KB\n",
      "\n",
      "The following packages will be UPDATED:\n",
      "\n",
      "  ca-certificates     anaconda::ca-certificates-2019.5.15-1 --> conda-forge::ca-certificates-2019.6.16-hecc5488_0\n",
      "\n",
      "The following packages will be SUPERSEDED by a higher-priority channel:\n",
      "\n",
      "  certifi                                          anaconda --> conda-forge\n",
      "  openssl               anaconda::openssl-1.0.2s-h7b6447c_0 --> conda-forge::openssl-1.0.2r-h14c3975_0\n",
      "\n",
      "\n",
      "\n",
      "Downloading and Extracting Packages\n",
      "certifi-2019.6.16    | 149 KB    | ##################################### | 100% \n",
      "Preparing transaction: done\n",
      "Verifying transaction: done\n",
      "Executing transaction: done\n"
     ]
    }
   ],
   "source": [
    "!conda update -n base -c defaults conda -y\n",
    "!conda install -c anaconda fastparquet -y\n",
    "!conda install -c conda-forge python-snappy -y"
   ]
  },
  {
   "cell_type": "code",
   "execution_count": 2,
   "metadata": {},
   "outputs": [],
   "source": [
    "import pandas as pd\n",
    "import fastparquet as fp\n",
    "import s3fs"
   ]
  },
  {
   "cell_type": "code",
   "execution_count": 3,
   "metadata": {},
   "outputs": [],
   "source": [
    "s3 = s3fs.S3FileSystem()\n",
    "myopen = s3.open"
   ]
  },
  {
   "cell_type": "code",
   "execution_count": 4,
   "metadata": {},
   "outputs": [],
   "source": [
    "s3_path = f\"cleaning-data/id=97/year=2019/month=4/day=1/*.parquet\"\n",
    "all_paths_from_s3 = s3.glob(path=s3_path)\n",
    "fp_obj = fp.ParquetFile(all_paths_from_s3,open_with=myopen)\n",
    "df = fp_obj.to_pandas()"
   ]
  },
  {
   "cell_type": "code",
   "execution_count": null,
   "metadata": {},
   "outputs": [],
   "source": [
    "# if there are multiple paths,use this below\n",
    "s3_path_18_97jan = f\"cleaning-data/id=97/year=2019/month=4/day=18/*.parquet\"\n",
    "s3_path_19_97jan = f\"cleaning-data/id=97/year=2019/month=4/day=19/*.parquet\"\n",
    "s3_path_20_97jan = f\"cleaning-data/id=97/year=2019/month=4/day=20/*.parquet\"\n",
    "\n",
    "paths_from_s3_18 = s3.glob(path=s3_path_18_97jan)\n",
    "paths_from_s3_19 = s3.glob(path=s3_path_19_97jan)\n",
    "paths_from_s3_20 = s3.glob(path=s3_path_20_97jan)\n",
    "\n",
    "all_paths_from_s3_97 = []\n",
    "all_paths_from_s3_97 = paths_from_s3_18+ paths_from_s3_19 + paths_from_s3_20\n",
    "\n",
    "fp_obj_97jan = fp.ParquetFile(all_paths_from_s3_97,open_with=myopen)\n",
    "df97_jan = fp_obj_9753jan.to_pandas()"
   ]
  },
  {
   "cell_type": "code",
   "execution_count": 5,
   "metadata": {},
   "outputs": [
    {
     "data": {
      "text/plain": [
       "pandas.core.frame.DataFrame"
      ]
     },
     "execution_count": 5,
     "metadata": {},
     "output_type": "execute_result"
    }
   ],
   "source": [
    "type(df)"
   ]
  },
  {
   "cell_type": "code",
   "execution_count": null,
   "metadata": {},
   "outputs": [],
   "source": [
    "df.isna().sum()"
   ]
  }
 ],
 "metadata": {
  "kernelspec": {
   "display_name": "Python 3",
   "language": "python",
   "name": "python3"
  },
  "language_info": {
   "codemirror_mode": {
    "name": "ipython",
    "version": 3
   },
   "file_extension": ".py",
   "mimetype": "text/x-python",
   "name": "python",
   "nbconvert_exporter": "python",
   "pygments_lexer": "ipython3",
   "version": "3.6.7"
  }
 },
 "nbformat": 4,
 "nbformat_minor": 4
}
