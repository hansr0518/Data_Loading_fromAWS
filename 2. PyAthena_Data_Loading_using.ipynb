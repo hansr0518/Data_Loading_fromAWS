{
 "cells": [
  {
   "cell_type": "code",
   "execution_count": 1,
   "metadata": {},
   "outputs": [
    {
     "name": "stdout",
     "output_type": "stream",
     "text": [
      "     timestamp_a       timestamp_b            value_a  \\\n",
      "0    1565704205420     1565704040439          0.930476   \n",
      "1    1565704205420     1565704041440          0.930476   \n",
      "2    1565704205420     1565704042439          0.870785   \n",
      "3    1565704205420     1565704043438          0.912923   \n",
      "4    1565704205420     1565704044439          0.937501   \n",
      "\n",
      "   value_b  value_c  value_d  \\\n",
      "0  0.0      0.0      0.108848   \n",
      "1  0.0      0.0      0.109200   \n",
      "2  0.0      0.0      0.108848   \n",
      "3  0.0      0.0      0.108146   \n",
      "4  0.0      0.0      0.108848   \n",
      "\n",
      "   value_e      value_f         value_g  \\\n",
      "0  0.214888     1500.140503     4919.0   \n",
      "1  0.214536     1500.140503     4919.0   \n",
      "2  0.214536     1500.140503     4919.0   \n",
      "3  0.214888     1500.140503     4919.0   \n",
      "4  0.214888     1500.140503     4919.0   \n",
      "\n",
      "[5 rows x 511 columns]\n"
     ]
    }
   ],
   "source": [
    "from pyathena import connect\n",
    "import pandas as pd\n",
    "\n",
    "conn = connect(aws_access_key_id='YOUR_ACCESS_KEY_ID'\n",
    "               aws_secret_access_key='YOUR_SECRET_ACCESS_KEY',\n",
    "               s3_staging_dir='s3://athena-results2/cleansing/',\n",
    "               region_name='us-east-1')\n",
    "df = pd.read_sql(\"SELECT * FROM time_series.clean_log2 limit 100\", conn)\n",
    "print(df.head())"
   ]
  },
  {
   "cell_type": "code",
   "execution_count": 2,
   "metadata": {},
   "outputs": [],
   "source": [
    "database = 'time_series'\n",
    "table = 'clean_log2'\n",
    "\n",
    "query_1 = \"\"\" SELECT \n",
    "            current_date AS today,\n",
    "            date(date_parse(record_timestamp_new,'%Y-%m-%d %H:%i:%s')) AS date, \n",
    "            count(alarm) AS count_state\n",
    "            \n",
    "        FROM time_series.clean_log2\n",
    "        WHERE date(date_parse(record_timestamp_new,'%Y-%m-%d %H:%i:%s'))\n",
    "                    BETWEEN current_date - interval '120' day\n",
    "                    AND current_date\n",
    "              AND alarm >=150\n",
    "        GROUP BY  date(date_parse(record_timestamp_new,'%Y-%m-%d %H:%i:%s')),alarm\n",
    "        ORDER by date,alarm;\"\"\".format(database, table)"
   ]
  },
  {
   "cell_type": "code",
   "execution_count": 3,
   "metadata": {
    "scrolled": false
   },
   "outputs": [
    {
     "data": {
      "text/html": [
       "<div>\n",
       "<style scoped>\n",
       "    .dataframe tbody tr th:only-of-type {\n",
       "        vertical-align: middle;\n",
       "    }\n",
       "\n",
       "    .dataframe tbody tr th {\n",
       "        vertical-align: top;\n",
       "    }\n",
       "\n",
       "    .dataframe thead th {\n",
       "        text-align: right;\n",
       "    }\n",
       "</style>\n",
       "<table border=\"1\" class=\"dataframe\">\n",
       "  <thead>\n",
       "    <tr style=\"text-align: right;\">\n",
       "      <th></th>\n",
       "      <th>today</th>\n",
       "      <th>date</th>\n",
       "      <th>count_pstate</th>\n",
       "    </tr>\n",
       "  </thead>\n",
       "  <tbody>\n",
       "    <tr>\n",
       "      <th>0</th>\n",
       "      <td>2019-12-10</td>\n",
       "      <td>2019-08-12</td>\n",
       "      <td>86400</td>\n",
       "    </tr>\n",
       "    <tr>\n",
       "      <th>1</th>\n",
       "      <td>2019-12-10</td>\n",
       "      <td>2019-08-13</td>\n",
       "      <td>86400</td>\n",
       "    </tr>\n",
       "    <tr>\n",
       "      <th>2</th>\n",
       "      <td>2019-12-10</td>\n",
       "      <td>2019-08-14</td>\n",
       "      <td>86400</td>\n",
       "    </tr>\n",
       "    <tr>\n",
       "      <th>3</th>\n",
       "      <td>2019-12-10</td>\n",
       "      <td>2019-08-15</td>\n",
       "      <td>86400</td>\n",
       "    </tr>\n",
       "    <tr>\n",
       "      <th>4</th>\n",
       "      <td>2019-12-10</td>\n",
       "      <td>2019-08-16</td>\n",
       "      <td>86460</td>\n",
       "    </tr>\n",
       "  </tbody>\n",
       "</table>\n",
       "</div>"
      ],
      "text/plain": [
       "        today        date  count_pstate\n",
       "0  2019-12-10  2019-08-12         86400\n",
       "1  2019-12-10  2019-08-13         86400\n",
       "2  2019-12-10  2019-08-14         86400\n",
       "3  2019-12-10  2019-08-15         86400\n",
       "4  2019-12-10  2019-08-16         86460"
      ]
     },
     "execution_count": 3,
     "metadata": {},
     "output_type": "execute_result"
    }
   ],
   "source": [
    "df = pd.read_sql(query_1, conn)\n",
    "df.head()"
   ]
  },
  {
   "cell_type": "code",
   "execution_count": null,
   "metadata": {},
   "outputs": [],
   "source": []
  }
 ],
 "metadata": {
  "kernelspec": {
   "display_name": "Python 3",
   "language": "python",
   "name": "python3"
  },
  "language_info": {
   "codemirror_mode": {
    "name": "ipython",
    "version": 3
   },
   "file_extension": ".py",
   "mimetype": "text/x-python",
   "name": "python",
   "nbconvert_exporter": "python",
   "pygments_lexer": "ipython3",
   "version": "3.6.7"
  }
 },
 "nbformat": 4,
 "nbformat_minor": 4
}
